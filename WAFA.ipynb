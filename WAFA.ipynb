{
 "cells": [
  {
   "cell_type": "code",
   "execution_count": 1,
   "metadata": {},
   "outputs": [
    {
     "name": "stdout",
     "output_type": "stream",
     "text": [
      "Requirement already satisfied: PyPortfolioOpt in c:\\users\\asmag\\anaconda3\\lib\\site-packages (0.4.3)\n",
      "Requirement already satisfied: attrs in c:\\users\\asmag\\anaconda3\\lib\\site-packages (from PyPortfolioOpt) (18.2.0)\n",
      "Requirement already satisfied: more-itertools in c:\\users\\asmag\\anaconda3\\lib\\site-packages (from PyPortfolioOpt) (4.3.0)\n",
      "Requirement already satisfied: py in c:\\users\\asmag\\anaconda3\\lib\\site-packages (from PyPortfolioOpt) (1.6.0)\n",
      "Requirement already satisfied: pytz in c:\\users\\asmag\\anaconda3\\lib\\site-packages (from PyPortfolioOpt) (2018.5)\n",
      "Requirement already satisfied: scipy in c:\\users\\asmag\\anaconda3\\lib\\site-packages (from PyPortfolioOpt) (1.1.0)\n",
      "Requirement already satisfied: numpy in c:\\users\\asmag\\anaconda3\\lib\\site-packages (from PyPortfolioOpt) (1.15.1)\n",
      "Requirement already satisfied: atomicwrites in c:\\users\\asmag\\anaconda3\\lib\\site-packages (from PyPortfolioOpt) (1.2.1)\n",
      "Requirement already satisfied: python-dateutil in c:\\users\\asmag\\anaconda3\\lib\\site-packages (from PyPortfolioOpt) (2.7.3)\n",
      "Requirement already satisfied: six in c:\\users\\asmag\\anaconda3\\lib\\site-packages (from PyPortfolioOpt) (1.11.0)\n",
      "Requirement already satisfied: pulp in c:\\users\\asmag\\anaconda3\\lib\\site-packages (from PyPortfolioOpt) (2.0)\n",
      "Requirement already satisfied: pytest<5.0,>=4.6 in c:\\users\\asmag\\anaconda3\\lib\\site-packages (from PyPortfolioOpt) (4.6.6)\n",
      "Requirement already satisfied: pluggy in c:\\users\\asmag\\anaconda3\\lib\\site-packages (from PyPortfolioOpt) (0.7.1)\n",
      "Requirement already satisfied: noisyopt in c:\\users\\asmag\\anaconda3\\lib\\site-packages (from PyPortfolioOpt) (0.2.2)\n",
      "Requirement already satisfied: pyparsing>=2.0.1 in c:\\users\\asmag\\anaconda3\\lib\\site-packages (from pulp->PyPortfolioOpt) (2.2.0)\n",
      "Requirement already satisfied: colorama; sys_platform == \"win32\" in c:\\users\\asmag\\anaconda3\\lib\\site-packages (from pytest<5.0,>=4.6->PyPortfolioOpt) (0.3.9)\n",
      "Requirement already satisfied: importlib-metadata>=0.12; python_version < \"3.8\" in c:\\users\\asmag\\anaconda3\\lib\\site-packages (from pytest<5.0,>=4.6->PyPortfolioOpt) (1.1.0)\n",
      "Requirement already satisfied: wcwidth in c:\\users\\asmag\\anaconda3\\lib\\site-packages (from pytest<5.0,>=4.6->PyPortfolioOpt) (0.1.7)\n",
      "Requirement already satisfied: packaging in c:\\users\\asmag\\anaconda3\\lib\\site-packages (from pytest<5.0,>=4.6->PyPortfolioOpt) (17.1)\n",
      "Requirement already satisfied: zipp>=0.5 in c:\\users\\asmag\\anaconda3\\lib\\site-packages (from importlib-metadata>=0.12; python_version < \"3.8\"->pytest<5.0,>=4.6->PyPortfolioOpt) (0.6.0)\n"
     ]
    },
    {
     "name": "stderr",
     "output_type": "stream",
     "text": [
      "pytest 4.6.6 has requirement pluggy<1.0,>=0.12, but you'll have pluggy 0.7.1 which is incompatible.\n",
      "You are using pip version 10.0.1, however version 19.3.1 is available.\n",
      "You should consider upgrading via the 'python -m pip install --upgrade pip' command.\n"
     ]
    }
   ],
   "source": [
    "!pip install PyPortfolioOpt"
   ]
  },
  {
   "cell_type": "code",
   "execution_count": 1,
   "metadata": {},
   "outputs": [],
   "source": [
    "import requests\n",
    "import pandas as pd\n",
    "import numpy as np\n",
    "from requests.packages.urllib3.exceptions import InsecureRequestWarning\n",
    "requests.packages.urllib3.disable_warnings(InsecureRequestWarning)\n",
    "from pandas.io.json import json_normalize\n",
    "import json\n",
    "from pypfopt.efficient_frontier import EfficientFrontier\n",
    "from pypfopt import risk_models\n",
    "from pypfopt import expected_returns\n",
    "import time"
   ]
  },
  {
   "cell_type": "code",
   "execution_count": 2,
   "metadata": {},
   "outputs": [],
   "source": [
    "URL = 'https://dolphin.jump-technology.com:8443/api/v1/' \n",
    "AUTH = ('ESPRIT_GROUPE2', '4Ah4XhAfmns8TnES') \n",
    "def columnsToStr(columns): \n",
    "    if isinstance(columns, list):\n",
    "        k=\"?columns=\"\n",
    "        for a in columns:\n",
    "            k=k+a+\"&columns=\"\n",
    "        k = k[:-9]\n",
    "        return k\n",
    "def getData(endpointApi, date=None, full_response=False, columns=list()):\n",
    "    payload = {'date': date }\n",
    "    res = requests.get(URL + endpointApi + columnsToStr(columns),\n",
    "    params=payload,\n",
    "    auth=AUTH,\n",
    "    verify=False) \n",
    "    return res.content.decode('utf-8')"
   ]
  },
  {
   "cell_type": "code",
   "execution_count": 3,
   "metadata": {},
   "outputs": [],
   "source": [
    "def getRatios( ratio=[],asset=[],star_date='2013-06-13',end_date='2019-04-18', full_response=False, columns=list()):\n",
    "    payload = {'ratio': ratio,'asset':asset,'start_date': star_date,'end_date':end_date }\n",
    "    res = requests.post(URL + \"ratio/invoke\" ,\n",
    "    data=str(payload),\n",
    "     headers={'Content-Type': 'application/x-www-form-urlencoded'},\n",
    "    auth=AUTH,\n",
    "    verify=False) \n",
    "    k = res.content.decode('utf-8')\n",
    "    k= json.loads(k)\n",
    "    kk = pd.DataFrame(columns=['ASSET_DATABASE_ID','ratio_id','ratioValue','ratioType'])\n",
    "    for a in asset:\n",
    "        for b in ratio:\n",
    "            kk = kk.append(\n",
    "                pd.DataFrame([ (a,b, str(k[str(a)][str(b)][\"value\"]),str(k[str(a)][str(b)][\"type\"]) )],columns=['ASSET_DATABASE_ID','ratio_id','ratioValue','ratioType']),\n",
    "                ignore_index=True)\n",
    "    return kk\n",
    "\n",
    "def getAssets():\n",
    "    col = list([\"ASSET_DATABASE_ID\",\"LABEL\",\"TYPE\",\"LAST_CLOSE_VALUE\",\"CURRENCY\"])\n",
    "    assets = getData('asset',columns=col)\n",
    "    jdata = json.loads(assets)\n",
    "    assets = pd.DataFrame.from_dict(json_normalize(jdata), orient='columns')\n",
    "    assets = assets[['ASSET_DATABASE_ID.value','LABEL.value','LAST_CLOSE_VALUE.value','TYPE.value',\"CURRENCY.value\"]]\n",
    "    assets.columns =[\"ASSET_DATABASE_ID\",\"LABEL\",\"LAST_CLOSE_VALUE\",'TYPE',\"CURRENCY\"]\n",
    "    return assets\n",
    "\n"
   ]
  },
  {
   "cell_type": "code",
   "execution_count": 13,
   "metadata": {},
   "outputs": [],
   "source": []
  },
  {
   "cell_type": "code",
   "execution_count": 14,
   "metadata": {},
   "outputs": [],
   "source": []
  },
  {
   "cell_type": "code",
   "execution_count": 5,
   "metadata": {},
   "outputs": [],
   "source": [
    "def getRendementAnnualisee( asset=[],ratio=[13],star_date='2013-06-14',end_date='2019-04-18', full_response=False, columns=list()):\n",
    "    kk=pd.DataFrame()\n",
    "    l = list()\n",
    "    payload = {'ratio': ratio,'asset':asset,'benchmark':1,'start_date': star_date,'end_date':end_date }\n",
    "    res = requests.post(URL + \"ratio/invoke\" ,\n",
    "    data=str(payload),\n",
    "    headers={'Content-Type': 'application/x-www-form-urlencoded'},auth=AUTH,verify=False) \n",
    "    k = res.content.decode('utf-8')\n",
    "    k=json.loads(k)\n",
    "    for a in asset:\n",
    "        l.append(str(k[str(a)][\"13\"][\"value\"]))\n",
    "    kk=pd.DataFrame(l,index=asset)\n",
    "    kk[kk.columns] = kk[kk.columns].apply(lambda x: pd.to_numeric(x.astype(str).str.replace(',','.'), errors='coerce'));\n",
    "    return kk"
   ]
  },
  {
   "cell_type": "code",
   "execution_count": 6,
   "metadata": {},
   "outputs": [],
   "source": [
    "def getCorrelation( asset=[],ratio=[11],star_date='2013-06-14',end_date='2019-04-18', full_response=False, columns=list()):\n",
    "    kk = pd.DataFrame()\n",
    "    l = list()\n",
    "    for i in asset:\n",
    "        payload = {'ratio': ratio,'asset':asset,'benchmark':i,'start_date': star_date,'end_date':end_date }\n",
    "        res = requests.post(URL + \"ratio/invoke\" ,\n",
    "        data=str(payload),\n",
    "         headers={'Content-Type': 'application/x-www-form-urlencoded'},\n",
    "        auth=AUTH,\n",
    "        verify=False) \n",
    "        k = res.content.decode('utf-8')\n",
    "        k=json.loads(k)\n",
    "        ls=list()\n",
    "        for a in asset:\n",
    "            ls.append(str(k[str(a)][str(11)][\"value\"]))\n",
    "        l.append(ls)\n",
    "    kk=pd.DataFrame(l,index=asset,columns=asset)\n",
    "    kk[kk.columns] = kk[kk.columns].apply(lambda x: pd.to_numeric(x.astype(str).str.replace(',','.'), errors='coerce'));\n",
    "    return kk"
   ]
  },
  {
   "cell_type": "code",
   "execution_count": 7,
   "metadata": {},
   "outputs": [],
   "source": [
    "def getVolatilite( asset=[],ratio=[10],star_date='2013-06-14',end_date='2019-04-18', full_response=False, columns=list()):\n",
    "    kk=pd.DataFrame()\n",
    "    l = list()\n",
    "    payload = {'ratio': ratio,'asset':asset,'benchmark':1,'start_date': star_date,'end_date':end_date }\n",
    "    res = requests.post(URL + \"ratio/invoke\" ,\n",
    "    data=str(payload),\n",
    "    headers={'Content-Type': 'application/x-www-form-urlencoded'},auth=AUTH,verify=False) \n",
    "    k = res.content.decode('utf-8')\n",
    "    k=json.loads(k)\n",
    "    for a in asset:\n",
    "        r=1\n",
    "        l.append(str(k[str(a)][\"10\"][\"value\"]))\n",
    "    kk=pd.DataFrame(l,index=asset)\n",
    "    kk[kk.columns] = kk[kk.columns].apply(lambda x: pd.to_numeric(x.astype(str).str.replace(',','.'), errors='coerce'));\n",
    "    return kk\n"
   ]
  },
  {
   "cell_type": "code",
   "execution_count": 8,
   "metadata": {},
   "outputs": [],
   "source": [
    "def getCurrencyChange(assets):\n",
    "    l = list()\n",
    "    for i in assets.CURRENCY.tolist():\n",
    "        result = getData('currency/rate/'+str(i)+'/to/EUR?date=2013-06-14')\n",
    "        value = json.loads(result)['rate']['value'].replace(',','.')\n",
    "        value = float(value)\n",
    "        l.append(value)\n",
    "    return l"
   ]
  },
  {
   "cell_type": "code",
   "execution_count": 9,
   "metadata": {},
   "outputs": [],
   "source": [
    "def getCotations(asset_id):\n",
    "    col = list([\"date\",\"asset\",\"nav\",\"gross\",\"pl\",\"close\",\"return\"])\n",
    "    assetC = getData('asset/'+str(asset_id)+'/quote?start_date=2013-06-14&end_date=2019-04-18')\n",
    "    jdata = json.loads(assetC)\n",
    "    assetC = pd.DataFrame.from_dict(json_normalize(jdata), orient='columns')\n",
    "    assetC = assetC[[\"asset.value\",\"date.value\",\"nav.value\",\"gross.value\",\"pl.value\",\"close.value\",\"return.value\"]]\n",
    "    assetC.columns =[\"asset\",\"date\",\"nav\",\"gross\",\"pl\",\"close\",\"return\"]\n",
    "    return assetC"
   ]
  },
  {
   "cell_type": "code",
   "execution_count": 10,
   "metadata": {},
   "outputs": [],
   "source": [
    "def cleanData(Fasset):\n",
    "    df=pd.DataFrame()\n",
    "    df[\"asset\"]=Fasset.ASSET_DATABASE_ID\n",
    "    df[\"quantity\"]=Fasset.quantity\n",
    "    return df"
   ]
  },
  {
   "cell_type": "code",
   "execution_count": 11,
   "metadata": {},
   "outputs": [],
   "source": [
    "def dataToJson(df):\n",
    "    b=pd.DataFrame()\n",
    "    b=pd.concat([b,df.asset],axis=1,sort=False)\n",
    "    b=pd.concat([b,df.quantity],axis=1,sort=False)\n",
    "    b=b.T\n",
    "    a='{\"label\":\"ESPRIT_PTF_2\",\"currency\":{\"code\": \"EUR\"},\"type\": \"front\",\"values\": {\"2013-06-14\": ['\n",
    "    for i in b.columns:\n",
    "        a=a+'{\"asset\" :'+b[i].to_json()+'},'\n",
    "    a=a[0:-1]\n",
    "    a=a+\"]}}\"\n",
    "    return a"
   ]
  },
  {
   "cell_type": "code",
   "execution_count": 12,
   "metadata": {},
   "outputs": [],
   "source": [
    "def pushPortfolio(df):\n",
    "    payload = dataToJson(df)\n",
    "    res = requests.put(URL + \"portfolio/1839/dyn_amount_compo\" ,\n",
    "    data=payload,\n",
    "     headers={'Content-Type': 'application/x-www-form-urlencoded'},\n",
    "    auth=AUTH,\n",
    "    verify=False) \n",
    "    return "
   ]
  },
  {
   "cell_type": "code",
   "execution_count": 13,
   "metadata": {},
   "outputs": [],
   "source": [
    "def getSharpe( asset=[1839],ratio=[12],star_date='2013-06-14',end_date='2019-04-18', full_response=False):\n",
    "    payload = {'ratio': ratio,'asset':asset,'benchmark':0,'start_date': star_date,'end_date':end_date }\n",
    "    res = requests.post(URL + \"ratio/invoke\" ,\n",
    "    data=str(payload),\n",
    "    headers={'Content-Type': 'application/x-www-form-urlencoded'},auth=AUTH,verify=False) \n",
    "    k = res.content.decode('utf-8')\n",
    "    k=json.loads(k)\n",
    "    k=float(k[str(1839)][\"12\"][\"value\"].replace(',','.'))\n",
    "    return k"
   ]
  },
  {
   "cell_type": "code",
   "execution_count": 15,
   "metadata": {},
   "outputs": [],
   "source": [
    "def portfolioWeights(df):    \n",
    "    start_time = time.time()\n",
    "    mu = expected_returns.mean_historical_return(df)\n",
    "    S = risk_models.sample_cov(df)\n",
    "    # Optimise for maximal Sharpe ratio\n",
    "    ef = EfficientFrontier(mu, S, weight_bounds=(0, 0.095),gamma=1)\n",
    "    raw_weights = ef.max_sharpe()\n",
    "    cleaned_weights = ef.clean_weights()\n",
    "    return cleaned_weights"
   ]
  },
  {
   "cell_type": "code",
   "execution_count": 22,
   "metadata": {},
   "outputs": [],
   "source": [
    "def cleanAssets():    \n",
    "    start_time = time.time()\n",
    "    assets = getAssets().dropna(0)\n",
    "    actifs = assets[assets.TYPE != \"INDEX\"]\n",
    "    actif=actifs.ASSET_DATABASE_ID.tolist();\n",
    "    assetC=None\n",
    "    for a in actifs.ASSET_DATABASE_ID.tolist():\n",
    "        assetC2 = getCotations(a)\n",
    "        assetC2 = assetC2[[\"date\",\"close\"]]\n",
    "        assetC2 = assetC2.set_index('date')\n",
    "        assetC2.columns = [str(a)]\n",
    "        assetC = pd.concat([assetC,assetC2], axis=1,sort=False)\n",
    "    df=assetC\n",
    "    df[df.columns] = df[df.columns].apply(lambda x: pd.to_numeric(x.astype(str).str.replace(',','.'), errors='coerce'));\n",
    "    return df"
   ]
  },
  {
   "cell_type": "code",
   "execution_count": 17,
   "metadata": {},
   "outputs": [],
   "source": [
    "def getCoursAction(Fasset):\n",
    "    assetC=None\n",
    "    for a in Fasset.index.tolist():\n",
    "        assetC2 = getCotations(a)\n",
    "        assetC2 = assetC2[[\"date\",\"close\"]]\n",
    "        assetC2 = assetC2.set_index('date')\n",
    "        assetC2.columns = [str(a)]\n",
    "        assetC = pd.concat([assetC,assetC2], axis=1,sort=False)\n",
    "    assetC[assetC.columns] = assetC[assetC.columns].apply(lambda x: pd.to_numeric(x.astype(str).str.replace(',','.'), errors='coerce'));\n",
    "    return assetC"
   ]
  },
  {
   "cell_type": "code",
   "execution_count": 18,
   "metadata": {},
   "outputs": [],
   "source": [
    "def isNan(x):\n",
    "    return (x is np.nan or x != x)\n",
    "def ActionValide(asset):\n",
    "    l=list()\n",
    "    for a in asset.columns.tolist():\n",
    "        t=None\n",
    "        df = asset[a].tolist()\n",
    "        for i in df:\n",
    "            if (isNan(i)==False):\n",
    "                l.append(i)\n",
    "                break\n",
    "    return l"
   ]
  },
  {
   "cell_type": "code",
   "execution_count": 19,
   "metadata": {},
   "outputs": [],
   "source": [
    "def getPortfolioData(df):\n",
    "    a= portfolioWeights(df)\n",
    "    a=pd.DataFrame.from_dict(a,orient='index')\n",
    "    a.columns=[\"Weights\"]\n",
    "    b=a[a.Weights>0.0095]\n",
    "    b.Weights=b.Weights/b.Weights.sum();\n",
    "    b=b.sort_values(by='Weights',ascending=False);\n",
    "    assets = getAssets().dropna(0)\n",
    "    assets.index=assets.ASSET_DATABASE_ID\n",
    "    Fasset=assets.T[b.index.tolist()].T\n",
    "    Fasset[\"CHANGE\"]=getCurrencyChange(Fasset)\n",
    "    Fasset[\"Weights\"]=b.Weights\n",
    "    Fasset[\"CoursOC\"]=ActionValide(getCoursAction(Fasset))\n",
    "    Fasset[\"quantity\"]=round(Fasset[\"Weights\"]*100000000000/(Fasset[\"CHANGE\"]*Fasset[\"CoursOC\"]));\n",
    "   \n",
    "    return Fasset"
   ]
  },
  {
   "cell_type": "code",
   "execution_count": 20,
   "metadata": {},
   "outputs": [],
   "source": [
    "df = cleanAssets()"
   ]
  },
  {
   "cell_type": "code",
   "execution_count": 21,
   "metadata": {},
   "outputs": [
    {
     "name": "stderr",
     "output_type": "stream",
     "text": [
      "C:\\Users\\asmag\\Anaconda3\\lib\\site-packages\\pandas\\core\\generic.py:4405: SettingWithCopyWarning: \n",
      "A value is trying to be set on a copy of a slice from a DataFrame.\n",
      "Try using .loc[row_indexer,col_indexer] = value instead\n",
      "\n",
      "See the caveats in the documentation: http://pandas.pydata.org/pandas-docs/stable/indexing.html#indexing-view-versus-copy\n",
      "  self[name] = value\n"
     ]
    }
   ],
   "source": [
    "t=getPortfolioData(df)"
   ]
  },
  {
   "cell_type": "code",
   "execution_count": 48,
   "metadata": {},
   "outputs": [],
   "source": [
    "pushPortfolio(cleanData(t))"
   ]
  }
 ],
 "metadata": {
  "kernelspec": {
   "display_name": "Python 3",
   "language": "python",
   "name": "python3"
  },
  "language_info": {
   "codemirror_mode": {
    "name": "ipython",
    "version": 3
   },
   "file_extension": ".py",
   "mimetype": "text/x-python",
   "name": "python",
   "nbconvert_exporter": "python",
   "pygments_lexer": "ipython3",
   "version": "3.7.0"
  }
 },
 "nbformat": 4,
 "nbformat_minor": 4
}
